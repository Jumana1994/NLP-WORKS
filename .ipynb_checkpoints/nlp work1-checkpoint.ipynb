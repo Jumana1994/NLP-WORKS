{
 "cells": [
  {
   "cell_type": "code",
   "execution_count": 1,
   "id": "a62a2928-5ef9-40c1-ae10-61684851f049",
   "metadata": {},
   "outputs": [],
   "source": [
    "import sklearn\n",
    "import pandas as pd\n",
    "import numpy as np"
   ]
  },
  {
   "cell_type": "code",
   "execution_count": 2,
   "id": "14db292c-e48f-4aa2-a744-1fd23d379553",
   "metadata": {},
   "outputs": [
    {
     "name": "stdout",
     "output_type": "stream",
     "text": [
      "Requirement already satisfied: gensim in c:\\users\\user\\anaconda3\\lib\\site-packages (4.2.0)\n",
      "Requirement already satisfied: numpy>=1.17.0 in c:\\users\\user\\anaconda3\\lib\\site-packages (from gensim) (1.21.5)\n",
      "Requirement already satisfied: Cython==0.29.28 in c:\\users\\user\\anaconda3\\lib\\site-packages (from gensim) (0.29.28)\n",
      "Requirement already satisfied: scipy>=0.18.1 in c:\\users\\user\\anaconda3\\lib\\site-packages (from gensim) (1.7.3)\n",
      "Requirement already satisfied: smart-open>=1.8.1 in c:\\users\\user\\anaconda3\\lib\\site-packages (from gensim) (5.1.0)\n",
      "Note: you may need to restart the kernel to use updated packages.\n"
     ]
    }
   ],
   "source": [
    "pip install -U gensim"
   ]
  },
  {
   "cell_type": "code",
   "execution_count": 3,
   "id": "842b5140-e871-4fcc-a3ad-eb59ae7135a3",
   "metadata": {},
   "outputs": [],
   "source": [
    "from gensim.models import Word2Vec"
   ]
  },
  {
   "cell_type": "code",
   "execution_count": 4,
   "id": "269cc3d1-a0c5-4e8e-83cb-6fd0b4ead1c5",
   "metadata": {},
   "outputs": [],
   "source": [
    "word=(\"1 Listening, http://localhost:8889/lab/tree/deep%20learning/NLP/nlp%20work1.ipynbSpeaking, Reading and Writing (L-S-R-W) are the four skills of language learning. 2 These are the set of four capabilities that allow an individual to comprehend and use a spoken language for proper and effective interpersonal communication. Reading is considered as one of the best habits anyone can possess. Reading helps a great deal in building our confidence, reduces stress and puts us in a better mood. It also develops our imagination and provides us with a fortune of knowledge. It is rightly said that books are our best friend as reading helps build up our wisdom and thinking capabilities. By developing the habit of reading, one can gain confidence in learning any language. The interest in reading, like any other habit, comes with time. Once a person starts reading, it becomes a part of habit and he/she starts to explore a whole new world.The habit of reading must be inculcated in children from a young age. Reading is a great habit from the learning point of view as it boosts the understanding of language, improves vocabulary, helps in improving speaking and writing skills, etc. While reading a book, the plot and its characters hover in our imagination. It is said that reading builds imagination power more than any other form of activity. Anyone who has good reading skills shows indication of higher intelligence as reading helps to broaden our wisdom and knowledge to a great extent. It not only boosts our confidence but personality too.\")"
   ]
  },
  {
   "cell_type": "code",
   "execution_count": 5,
   "id": "8892874c-b46c-4a52-8ed1-b2b1a09e335d",
   "metadata": {},
   "outputs": [],
   "source": [
    "import re"
   ]
  },
  {
   "cell_type": "code",
   "execution_count": 6,
   "id": "3dabb5c2-9f9a-404a-ba33-d4d4e7a83292",
   "metadata": {},
   "outputs": [],
   "source": [
    "word=re.sub(r'http\\S+', '', word)"
   ]
  },
  {
   "cell_type": "code",
   "execution_count": 7,
   "id": "bafdb84d-3440-4f10-a496-66d23e0cbf70",
   "metadata": {},
   "outputs": [
    {
     "data": {
      "text/plain": [
       "'1 Listening,  Reading and Writing (L-S-R-W) are the four skills of language learning. 2 These are the set of four capabilities that allow an individual to comprehend and use a spoken language for proper and effective interpersonal communication. Reading is considered as one of the best habits anyone can possess. Reading helps a great deal in building our confidence, reduces stress and puts us in a better mood. It also develops our imagination and provides us with a fortune of knowledge. It is rightly said that books are our best friend as reading helps build up our wisdom and thinking capabilities. By developing the habit of reading, one can gain confidence in learning any language. The interest in reading, like any other habit, comes with time. Once a person starts reading, it becomes a part of habit and he/she starts to explore a whole new world.The habit of reading must be inculcated in children from a young age. Reading is a great habit from the learning point of view as it boosts the understanding of language, improves vocabulary, helps in improving speaking and writing skills, etc. While reading a book, the plot and its characters hover in our imagination. It is said that reading builds imagination power more than any other form of activity. Anyone who has good reading skills shows indication of higher intelligence as reading helps to broaden our wisdom and knowledge to a great extent. It not only boosts our confidence but personality too.'"
      ]
     },
     "execution_count": 7,
     "metadata": {},
     "output_type": "execute_result"
    }
   ],
   "source": [
    "word"
   ]
  },
  {
   "cell_type": "code",
   "execution_count": 8,
   "id": "36015dda-52d2-4812-b20b-3b4fe0feb147",
   "metadata": {},
   "outputs": [],
   "source": [
    "# to remove numbers\n",
    "# import re\n",
    "# rem_num = re.sub('[0-9]+', '', )"
   ]
  },
  {
   "cell_type": "code",
   "execution_count": 9,
   "id": "503861c1-5318-4690-b619-cdd9403d93b9",
   "metadata": {},
   "outputs": [],
   "source": [
    "# c= re.sub(r'\\[[0-9]\"\\]',' ',word)"
   ]
  },
  {
   "cell_type": "code",
   "execution_count": 10,
   "id": "dd966b65-5129-41d0-8b4f-437db32e124a",
   "metadata": {},
   "outputs": [],
   "source": [
    "# c=re.sub(\"([a-zA-Z0-9_.+-]+@[a-zA-Z0-9-]+\\.[a-zA-Z0-9-.]+)\",\" \",word)"
   ]
  },
  {
   "cell_type": "code",
   "execution_count": 11,
   "id": "d26b60e7-4724-46cf-abf0-09310d30f7e0",
   "metadata": {},
   "outputs": [],
   "source": [
    "# c"
   ]
  },
  {
   "cell_type": "code",
   "execution_count": 12,
   "id": "f769c754-4e44-41eb-89cb-491a06058942",
   "metadata": {},
   "outputs": [],
   "source": [
    "# list comprehencion removing numbers\n",
    "# c=[]\n",
    "# for i in word:\n",
    "#     if not i.isdigit():\n",
    "#         c.append(i)\n",
    "        "
   ]
  },
  {
   "cell_type": "code",
   "execution_count": 13,
   "id": "460df338-fe3d-4b64-8324-768daec3227e",
   "metadata": {},
   "outputs": [],
   "source": [
    "# result=''.join(c)"
   ]
  },
  {
   "cell_type": "code",
   "execution_count": 14,
   "id": "3cd9e055-3c8d-48e8-9e55-6d768ecacf70",
   "metadata": {},
   "outputs": [],
   "source": [
    "# result"
   ]
  },
  {
   "cell_type": "code",
   "execution_count": 15,
   "id": "9a549e16-51b7-4c79-b926-da51192fb7dc",
   "metadata": {},
   "outputs": [],
   "source": [
    "from nltk.tokenize import word_tokenize"
   ]
  },
  {
   "cell_type": "code",
   "execution_count": 16,
   "id": "ff39e246-9663-4151-9e77-93563a8608c8",
   "metadata": {},
   "outputs": [],
   "source": [
    "token=word_tokenize(word)"
   ]
  },
  {
   "cell_type": "code",
   "execution_count": 17,
   "id": "86c9a30e-e78b-4615-9fd3-cfd7f00cd98f",
   "metadata": {},
   "outputs": [],
   "source": [
    "# c=[]\n",
    "# for i in token:\n",
    "#     if not i.isdigit():\n",
    "#         c.append(i)"
   ]
  },
  {
   "cell_type": "code",
   "execution_count": 18,
   "id": "7457757f-cf42-4801-8de6-7e5096d1dbb3",
   "metadata": {},
   "outputs": [],
   "source": [
    "# list comprehension\n",
    "token= [i for i in token if not i.isdigit()]\n"
   ]
  },
  {
   "cell_type": "code",
   "execution_count": 19,
   "id": "15a42fa6-5831-4b72-a350-7de2bed4c4c8",
   "metadata": {},
   "outputs": [],
   "source": [
    "# token"
   ]
  },
  {
   "cell_type": "code",
   "execution_count": 20,
   "id": "b7dbe367-3164-421c-9733-c717acd9e7df",
   "metadata": {},
   "outputs": [],
   "source": [
    "import string"
   ]
  },
  {
   "cell_type": "code",
   "execution_count": 21,
   "id": "2bad3bc2-cc10-4a1b-aea0-128630a4dc45",
   "metadata": {},
   "outputs": [],
   "source": [
    "token1=[]\n",
    "for i in token:\n",
    "    if i not in string.punctuation:\n",
    "        token1.append(i)\n",
    "    "
   ]
  },
  {
   "cell_type": "code",
   "execution_count": 22,
   "id": "8a796d59-214d-4dcf-ac22-6b7dc69567c5",
   "metadata": {},
   "outputs": [],
   "source": [
    "# a"
   ]
  },
  {
   "cell_type": "code",
   "execution_count": 23,
   "id": "bacb7738-d902-469f-892d-2896e8f2d317",
   "metadata": {},
   "outputs": [],
   "source": [
    "from nltk.stem import wordnet\n",
    "from nltk.stem import WordNetLemmatizer"
   ]
  },
  {
   "cell_type": "code",
   "execution_count": 24,
   "id": "630c7c39-aa7b-400d-aa7f-d18874ee8999",
   "metadata": {},
   "outputs": [],
   "source": [
    "lemme=WordNetLemmatizer()"
   ]
  },
  {
   "cell_type": "code",
   "execution_count": 25,
   "id": "413168e6-3e27-4058-895b-d63899c9b16a",
   "metadata": {},
   "outputs": [
    {
     "name": "stdout",
     "output_type": "stream",
     "text": [
      "Listening - Listening\n",
      "Reading - Reading\n",
      "and - and\n",
      "Writing - Writing\n",
      "L-S-R-W - L-S-R-W\n",
      "are - are\n",
      "the - the\n",
      "four - four\n",
      "skills - skill\n",
      "of - of\n",
      "language - language\n",
      "learning - learning\n",
      "These - These\n",
      "are - are\n",
      "the - the\n",
      "set - set\n",
      "of - of\n",
      "four - four\n",
      "capabilities - capability\n",
      "that - that\n",
      "allow - allow\n",
      "an - an\n",
      "individual - individual\n",
      "to - to\n",
      "comprehend - comprehend\n",
      "and - and\n",
      "use - use\n",
      "a - a\n",
      "spoken - spoken\n",
      "language - language\n",
      "for - for\n",
      "proper - proper\n",
      "and - and\n",
      "effective - effective\n",
      "interpersonal - interpersonal\n",
      "communication - communication\n",
      "Reading - Reading\n",
      "is - is\n",
      "considered - considered\n",
      "as - a\n",
      "one - one\n",
      "of - of\n",
      "the - the\n",
      "best - best\n",
      "habits - habit\n",
      "anyone - anyone\n",
      "can - can\n",
      "possess - posse\n",
      "Reading - Reading\n",
      "helps - help\n",
      "a - a\n",
      "great - great\n",
      "deal - deal\n",
      "in - in\n",
      "building - building\n",
      "our - our\n",
      "confidence - confidence\n",
      "reduces - reduces\n",
      "stress - stress\n",
      "and - and\n",
      "puts - put\n",
      "us - u\n",
      "in - in\n",
      "a - a\n",
      "better - better\n",
      "mood - mood\n",
      "It - It\n",
      "also - also\n",
      "develops - develops\n",
      "our - our\n",
      "imagination - imagination\n",
      "and - and\n",
      "provides - provides\n",
      "us - u\n",
      "with - with\n",
      "a - a\n",
      "fortune - fortune\n",
      "of - of\n",
      "knowledge - knowledge\n",
      "It - It\n",
      "is - is\n",
      "rightly - rightly\n",
      "said - said\n",
      "that - that\n",
      "books - book\n",
      "are - are\n",
      "our - our\n",
      "best - best\n",
      "friend - friend\n",
      "as - a\n",
      "reading - reading\n",
      "helps - help\n",
      "build - build\n",
      "up - up\n",
      "our - our\n",
      "wisdom - wisdom\n",
      "and - and\n",
      "thinking - thinking\n",
      "capabilities - capability\n",
      "By - By\n",
      "developing - developing\n",
      "the - the\n",
      "habit - habit\n",
      "of - of\n",
      "reading - reading\n",
      "one - one\n",
      "can - can\n",
      "gain - gain\n",
      "confidence - confidence\n",
      "in - in\n",
      "learning - learning\n",
      "any - any\n",
      "language - language\n",
      "The - The\n",
      "interest - interest\n",
      "in - in\n",
      "reading - reading\n",
      "like - like\n",
      "any - any\n",
      "other - other\n",
      "habit - habit\n",
      "comes - come\n",
      "with - with\n",
      "time - time\n",
      "Once - Once\n",
      "a - a\n",
      "person - person\n",
      "starts - start\n",
      "reading - reading\n",
      "it - it\n",
      "becomes - becomes\n",
      "a - a\n",
      "part - part\n",
      "of - of\n",
      "habit - habit\n",
      "and - and\n",
      "he/she - he/she\n",
      "starts - start\n",
      "to - to\n",
      "explore - explore\n",
      "a - a\n",
      "whole - whole\n",
      "new - new\n",
      "world.The - world.The\n",
      "habit - habit\n",
      "of - of\n",
      "reading - reading\n",
      "must - must\n",
      "be - be\n",
      "inculcated - inculcated\n",
      "in - in\n",
      "children - child\n",
      "from - from\n",
      "a - a\n",
      "young - young\n",
      "age - age\n",
      "Reading - Reading\n",
      "is - is\n",
      "a - a\n",
      "great - great\n",
      "habit - habit\n",
      "from - from\n",
      "the - the\n",
      "learning - learning\n",
      "point - point\n",
      "of - of\n",
      "view - view\n",
      "as - a\n",
      "it - it\n",
      "boosts - boost\n",
      "the - the\n",
      "understanding - understanding\n",
      "of - of\n",
      "language - language\n",
      "improves - improves\n",
      "vocabulary - vocabulary\n",
      "helps - help\n",
      "in - in\n",
      "improving - improving\n",
      "speaking - speaking\n",
      "and - and\n",
      "writing - writing\n",
      "skills - skill\n",
      "etc - etc\n",
      "While - While\n",
      "reading - reading\n",
      "a - a\n",
      "book - book\n",
      "the - the\n",
      "plot - plot\n",
      "and - and\n",
      "its - it\n",
      "characters - character\n",
      "hover - hover\n",
      "in - in\n",
      "our - our\n",
      "imagination - imagination\n",
      "It - It\n",
      "is - is\n",
      "said - said\n",
      "that - that\n",
      "reading - reading\n",
      "builds - build\n",
      "imagination - imagination\n",
      "power - power\n",
      "more - more\n",
      "than - than\n",
      "any - any\n",
      "other - other\n",
      "form - form\n",
      "of - of\n",
      "activity - activity\n",
      "Anyone - Anyone\n",
      "who - who\n",
      "has - ha\n",
      "good - good\n",
      "reading - reading\n",
      "skills - skill\n",
      "shows - show\n",
      "indication - indication\n",
      "of - of\n",
      "higher - higher\n",
      "intelligence - intelligence\n",
      "as - a\n",
      "reading - reading\n",
      "helps - help\n",
      "to - to\n",
      "broaden - broaden\n",
      "our - our\n",
      "wisdom - wisdom\n",
      "and - and\n",
      "knowledge - knowledge\n",
      "to - to\n",
      "a - a\n",
      "great - great\n",
      "extent - extent\n",
      "It - It\n",
      "not - not\n",
      "only - only\n",
      "boosts - boost\n",
      "our - our\n",
      "confidence - confidence\n",
      "but - but\n",
      "personality - personality\n",
      "too - too\n"
     ]
    }
   ],
   "source": [
    "for i in token1:\n",
    "    print(i,'-',lemme.lemmatize(i))"
   ]
  },
  {
   "cell_type": "code",
   "execution_count": 26,
   "id": "922a43c4-c409-48ab-93b5-91eb739a897a",
   "metadata": {},
   "outputs": [],
   "source": [
    "from nltk.corpus import stopwords\n",
    "stop_word=stopwords.words('english')"
   ]
  },
  {
   "cell_type": "code",
   "execution_count": 28,
   "id": "00d78500-4a4f-4fc8-9199-f715ac85983e",
   "metadata": {},
   "outputs": [],
   "source": [
    "token2=[]\n",
    "for i in token1:\n",
    "    if i not in stop_word:\n",
    "        token2.append(i)"
   ]
  },
  {
   "cell_type": "code",
   "execution_count": 29,
   "id": "42a2ac55-000f-4fe0-8a7a-bbb9bdecdae6",
   "metadata": {},
   "outputs": [
    {
     "data": {
      "text/plain": [
       "['Listening',\n",
       " 'Reading',\n",
       " 'Writing',\n",
       " 'L-S-R-W',\n",
       " 'four',\n",
       " 'skills',\n",
       " 'language',\n",
       " 'learning',\n",
       " 'These',\n",
       " 'set',\n",
       " 'four',\n",
       " 'capabilities',\n",
       " 'allow',\n",
       " 'individual',\n",
       " 'comprehend',\n",
       " 'use',\n",
       " 'spoken',\n",
       " 'language',\n",
       " 'proper',\n",
       " 'effective',\n",
       " 'interpersonal',\n",
       " 'communication',\n",
       " 'Reading',\n",
       " 'considered',\n",
       " 'one',\n",
       " 'best',\n",
       " 'habits',\n",
       " 'anyone',\n",
       " 'possess',\n",
       " 'Reading',\n",
       " 'helps',\n",
       " 'great',\n",
       " 'deal',\n",
       " 'building',\n",
       " 'confidence',\n",
       " 'reduces',\n",
       " 'stress',\n",
       " 'puts',\n",
       " 'us',\n",
       " 'better',\n",
       " 'mood',\n",
       " 'It',\n",
       " 'also',\n",
       " 'develops',\n",
       " 'imagination',\n",
       " 'provides',\n",
       " 'us',\n",
       " 'fortune',\n",
       " 'knowledge',\n",
       " 'It',\n",
       " 'rightly',\n",
       " 'said',\n",
       " 'books',\n",
       " 'best',\n",
       " 'friend',\n",
       " 'reading',\n",
       " 'helps',\n",
       " 'build',\n",
       " 'wisdom',\n",
       " 'thinking',\n",
       " 'capabilities',\n",
       " 'By',\n",
       " 'developing',\n",
       " 'habit',\n",
       " 'reading',\n",
       " 'one',\n",
       " 'gain',\n",
       " 'confidence',\n",
       " 'learning',\n",
       " 'language',\n",
       " 'The',\n",
       " 'interest',\n",
       " 'reading',\n",
       " 'like',\n",
       " 'habit',\n",
       " 'comes',\n",
       " 'time',\n",
       " 'Once',\n",
       " 'person',\n",
       " 'starts',\n",
       " 'reading',\n",
       " 'becomes',\n",
       " 'part',\n",
       " 'habit',\n",
       " 'he/she',\n",
       " 'starts',\n",
       " 'explore',\n",
       " 'whole',\n",
       " 'new',\n",
       " 'world.The',\n",
       " 'habit',\n",
       " 'reading',\n",
       " 'must',\n",
       " 'inculcated',\n",
       " 'children',\n",
       " 'young',\n",
       " 'age',\n",
       " 'Reading',\n",
       " 'great',\n",
       " 'habit',\n",
       " 'learning',\n",
       " 'point',\n",
       " 'view',\n",
       " 'boosts',\n",
       " 'understanding',\n",
       " 'language',\n",
       " 'improves',\n",
       " 'vocabulary',\n",
       " 'helps',\n",
       " 'improving',\n",
       " 'speaking',\n",
       " 'writing',\n",
       " 'skills',\n",
       " 'etc',\n",
       " 'While',\n",
       " 'reading',\n",
       " 'book',\n",
       " 'plot',\n",
       " 'characters',\n",
       " 'hover',\n",
       " 'imagination',\n",
       " 'It',\n",
       " 'said',\n",
       " 'reading',\n",
       " 'builds',\n",
       " 'imagination',\n",
       " 'power',\n",
       " 'form',\n",
       " 'activity',\n",
       " 'Anyone',\n",
       " 'good',\n",
       " 'reading',\n",
       " 'skills',\n",
       " 'shows',\n",
       " 'indication',\n",
       " 'higher',\n",
       " 'intelligence',\n",
       " 'reading',\n",
       " 'helps',\n",
       " 'broaden',\n",
       " 'wisdom',\n",
       " 'knowledge',\n",
       " 'great',\n",
       " 'extent',\n",
       " 'It',\n",
       " 'boosts',\n",
       " 'confidence',\n",
       " 'personality']"
      ]
     },
     "execution_count": 29,
     "metadata": {},
     "output_type": "execute_result"
    }
   ],
   "source": [
    "token2"
   ]
  },
  {
   "cell_type": "code",
   "execution_count": null,
   "id": "771f1d0f-6b84-435b-8082-3c0c22c64310",
   "metadata": {},
   "outputs": [],
   "source": [
    "# remove links\n",
    "# webscraping\n",
    "# How do I remove a URL from NLP?\n",
    "# import re\n",
    "# sub(r'http\\S+', '', my_string)\n"
   ]
  },
  {
   "cell_type": "code",
   "execution_count": null,
   "id": "2bd6cb23-4577-4fef-9fca-46e8c4956ced",
   "metadata": {},
   "outputs": [],
   "source": [
    "# to remove numbers\n",
    "# import re\n",
    "# rem_num = re.sub('[0-9]+', '', b)"
   ]
  },
  {
   "cell_type": "code",
   "execution_count": 35,
   "id": "61fe1c84-8113-42b0-8471-93b176542ece",
   "metadata": {},
   "outputs": [
    {
     "name": "stdout",
     "output_type": "stream",
     "text": [
      "Word2Vec<vocab=104, vector_size=100, alpha=0.025>\n"
     ]
    }
   ],
   "source": [
    "model=Word2Vec([token2],min_count=1)\n",
    "print(model)"
   ]
  },
  {
   "cell_type": "code",
   "execution_count": 36,
   "id": "10e75dcf-b6bf-4e44-a174-e0d5acffb4c2",
   "metadata": {},
   "outputs": [],
   "source": [
    "e=model.wv.key_to_index"
   ]
  },
  {
   "cell_type": "code",
   "execution_count": 37,
   "id": "c0ce5ad1-4141-46ff-bf53-1af3cae4a0f8",
   "metadata": {},
   "outputs": [
    {
     "name": "stdout",
     "output_type": "stream",
     "text": [
      "{'reading': 0, 'habit': 1, 'Reading': 2, 'helps': 3, 'language': 4, 'It': 5, 'confidence': 6, 'imagination': 7, 'great': 8, 'skills': 9, 'learning': 10, 'us': 11, 'boosts': 12, 'best': 13, 'one': 14, 'starts': 15, 'wisdom': 16, 'knowledge': 17, 'said': 18, 'capabilities': 19, 'four': 20, 'reduces': 21, 'develops': 22, 'also': 23, 'fortune': 24, 'rightly': 25, 'mood': 26, 'better': 27, 'books': 28, 'friend': 29, 'puts': 30, 'stress': 31, 'provides': 32, 'personality': 33, 'building': 34, 'deal': 35, 'Writing': 36, 'L-S-R-W': 37, 'These': 38, 'set': 39, 'allow': 40, 'individual': 41, 'comprehend': 42, 'use': 43, 'spoken': 44, 'proper': 45, 'effective': 46, 'interpersonal': 47, 'communication': 48, 'considered': 49, 'habits': 50, 'anyone': 51, 'build': 52, 'possess': 53, 'thinking': 54, 'extent': 55, 'understanding': 56, 'vocabulary': 57, 'improving': 58, 'speaking': 59, 'writing': 60, 'etc': 61, 'While': 62, 'book': 63, 'plot': 64, 'characters': 65, 'hover': 66, 'builds': 67, 'power': 68, 'form': 69, 'activity': 70, 'Anyone': 71, 'good': 72, 'shows': 73, 'indication': 74, 'higher': 75, 'intelligence': 76, 'broaden': 77, 'improves': 78, 'view': 79, 'By': 80, 'point': 81, 'developing': 82, 'gain': 83, 'The': 84, 'interest': 85, 'like': 86, 'comes': 87, 'time': 88, 'Once': 89, 'person': 90, 'becomes': 91, 'part': 92, 'he/she': 93, 'explore': 94, 'whole': 95, 'new': 96, 'world.The': 97, 'must': 98, 'inculcated': 99, 'children': 100, 'young': 101, 'age': 102, 'Listening': 103}\n"
     ]
    }
   ],
   "source": [
    "print(e)"
   ]
  },
  {
   "cell_type": "code",
   "execution_count": 42,
   "id": "a14cb27f-29d8-4afc-963e-dc7495a271fd",
   "metadata": {},
   "outputs": [
    {
     "data": {
      "text/plain": [
       "array([-9.5848311e-03,  8.9737019e-03,  4.1324627e-03,  9.2189321e-03,\n",
       "        6.6650552e-03,  2.8896471e-03,  9.8171178e-03, -4.3731951e-03,\n",
       "       -6.8255402e-03,  4.2307246e-03,  3.6855775e-03, -5.7012383e-03,\n",
       "        9.7207725e-03, -3.5574252e-03,  9.5622940e-03,  7.9777517e-04,\n",
       "       -6.3277725e-03, -1.9904077e-03, -7.3665665e-03, -3.0393854e-03,\n",
       "        1.0329015e-03,  9.4787646e-03,  9.3577513e-03, -6.6102301e-03,\n",
       "        3.4684269e-03,  2.2669733e-03, -2.4893654e-03, -9.2295865e-03,\n",
       "        1.0036780e-03, -8.1765326e-03,  6.3613523e-03, -5.8080428e-03,\n",
       "        5.5690166e-03,  9.8073194e-03, -1.8086344e-04,  4.5531522e-03,\n",
       "       -1.8136451e-03,  7.3557338e-03,  3.9448035e-03, -9.0554887e-03,\n",
       "       -2.3950648e-03,  3.6090710e-03, -1.2528115e-04, -1.2203469e-03,\n",
       "       -1.0355361e-03, -1.6573516e-03,  5.7284819e-04,  4.1660205e-03,\n",
       "       -4.2364928e-03, -3.8220116e-03, -6.4503838e-05,  2.6055818e-04,\n",
       "       -1.5279272e-04, -4.7762804e-03,  4.3100752e-03, -2.1636421e-03,\n",
       "        2.0969410e-03,  6.4709136e-04,  5.9345993e-03, -6.8451483e-03,\n",
       "       -6.7851963e-03, -4.4799778e-03,  9.4339196e-03, -1.5714675e-03,\n",
       "       -9.4288029e-03, -5.1197660e-04, -4.4281646e-03,  6.0406933e-03,\n",
       "       -9.6214460e-03,  2.9049360e-03, -9.2500700e-03,  1.2750773e-03,\n",
       "        6.0480144e-03,  7.4017448e-03, -7.5819208e-03, -6.0487287e-03,\n",
       "       -6.8258140e-03, -7.9146596e-03, -9.5018866e-03, -2.1314486e-03,\n",
       "       -8.5737655e-04, -7.2765457e-03,  6.7355200e-03,  1.1558952e-03,\n",
       "        5.8195414e-03,  1.4223797e-03,  8.3409081e-04, -7.3472559e-03,\n",
       "       -2.1369569e-03,  4.3424470e-03, -5.0393981e-03,  1.1482860e-03,\n",
       "        2.9095009e-03, -1.5206904e-03,  9.9693341e-03,  8.3707152e-03,\n",
       "        2.4263726e-03,  7.1244240e-03,  5.8943718e-03, -5.5968007e-03],\n",
       "      dtype=float32)"
      ]
     },
     "execution_count": 42,
     "metadata": {},
     "output_type": "execute_result"
    }
   ],
   "source": [
    "model.wv[\"great\"]"
   ]
  },
  {
   "cell_type": "code",
   "execution_count": 43,
   "id": "f182a9d3-1a9a-4977-82d5-6a55cb764f29",
   "metadata": {},
   "outputs": [
    {
     "data": {
      "text/plain": [
       "[('better', 0.2861905097961426),\n",
       " ('build', 0.24022872745990753),\n",
       " ('Once', 0.21172019839286804),\n",
       " ('Reading', 0.20070700347423553),\n",
       " ('spoken', 0.19094157218933105),\n",
       " ('communication', 0.1731553077697754),\n",
       " ('point', 0.1682533621788025),\n",
       " ('interpersonal', 0.16800843179225922),\n",
       " ('While', 0.1550343781709671),\n",
       " ('Anyone', 0.15062083303928375)]"
      ]
     },
     "execution_count": 43,
     "metadata": {},
     "output_type": "execute_result"
    }
   ],
   "source": [
    "# most related vectors\n",
    "model.wv.most_similar(\"great\")"
   ]
  },
  {
   "cell_type": "code",
   "execution_count": null,
   "id": "4ab3d2a5-8b58-4275-8c85-fa213b1c6d0e",
   "metadata": {},
   "outputs": [],
   "source": []
  }
 ],
 "metadata": {
  "kernelspec": {
   "display_name": "Python 3 (ipykernel)",
   "language": "python",
   "name": "python3"
  },
  "language_info": {
   "codemirror_mode": {
    "name": "ipython",
    "version": 3
   },
   "file_extension": ".py",
   "mimetype": "text/x-python",
   "name": "python",
   "nbconvert_exporter": "python",
   "pygments_lexer": "ipython3",
   "version": "3.9.12"
  }
 },
 "nbformat": 4,
 "nbformat_minor": 5
}
