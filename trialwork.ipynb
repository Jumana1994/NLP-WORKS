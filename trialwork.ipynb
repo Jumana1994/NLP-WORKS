{
 "cells": [
  {
   "cell_type": "code",
   "execution_count": 1,
   "id": "886d3c34-9052-4ee4-9112-bcc187d55cf5",
   "metadata": {},
   "outputs": [],
   "source": [
    "import nltk"
   ]
  },
  {
   "cell_type": "markdown",
   "id": "d70d4a9a-a71b-417e-980e-20318eebca5e",
   "metadata": {},
   "source": []
  },
  {
   "cell_type": "code",
   "execution_count": 2,
   "id": "9842ed51-bc52-40a4-917a-e637f56f1238",
   "metadata": {},
   "outputs": [],
   "source": [
    "para=\"my name is Jumana,my son is Azimmohamed ,my daughter Aishahyrin.We are joint family.My husband Rahoofkappan workin in Dubai as mechanical cum commissioning engineer.\""
   ]
  },
  {
   "cell_type": "code",
   "execution_count": 3,
   "id": "29d33f36-8927-45c1-8956-0f2f227df8e3",
   "metadata": {},
   "outputs": [],
   "source": [
    "from nltk.tokenize import word_tokenize"
   ]
  },
  {
   "cell_type": "code",
   "execution_count": 4,
   "id": "e05a4081-cfeb-43b5-aeee-17a51749ed15",
   "metadata": {},
   "outputs": [],
   "source": [
    "token=word_tokenize(para)"
   ]
  },
  {
   "cell_type": "code",
   "execution_count": 5,
   "id": "1d8f3eac-2547-47b0-a975-c3609df33f93",
   "metadata": {},
   "outputs": [],
   "source": [
    "# token"
   ]
  },
  {
   "cell_type": "code",
   "execution_count": 6,
   "id": "ca4fc153-5b73-4c1b-95c4-9043731cfc9a",
   "metadata": {},
   "outputs": [
    {
     "data": {
      "text/plain": [
       "str"
      ]
     },
     "execution_count": 6,
     "metadata": {},
     "output_type": "execute_result"
    }
   ],
   "source": [
    "type(para)"
   ]
  },
  {
   "cell_type": "code",
   "execution_count": 7,
   "id": "4b13f203-b0ca-4e5b-bdaf-98a071ad2933",
   "metadata": {},
   "outputs": [
    {
     "data": {
      "text/plain": [
       "27"
      ]
     },
     "execution_count": 7,
     "metadata": {},
     "output_type": "execute_result"
    }
   ],
   "source": [
    "len(token)"
   ]
  },
  {
   "cell_type": "code",
   "execution_count": 8,
   "id": "367a0ed9-9d77-48d0-b9a2-0fe535ec0e55",
   "metadata": {},
   "outputs": [],
   "source": [
    "from nltk.probability import FreqDist\n",
    "frequency=FreqDist()"
   ]
  },
  {
   "cell_type": "code",
   "execution_count": 9,
   "id": "bac500c6-765e-4cac-9d7b-6895175c423b",
   "metadata": {},
   "outputs": [],
   "source": [
    "for i in token:\n",
    "    frequency[i.lower()]+=1\n",
    "    "
   ]
  },
  {
   "cell_type": "code",
   "execution_count": 10,
   "id": "7c866296-4d96-4764-a4ca-dc0d5f6c90c9",
   "metadata": {},
   "outputs": [
    {
     "data": {
      "text/plain": [
       "FreqDist({'my': 3, 'is': 2, ',': 2, 'name': 1, 'jumana': 1, 'son': 1, 'azimmohamed': 1, 'daughter': 1, 'aishahyrin.we': 1, 'are': 1, ...})"
      ]
     },
     "execution_count": 10,
     "metadata": {},
     "output_type": "execute_result"
    }
   ],
   "source": [
    "frequency"
   ]
  },
  {
   "cell_type": "code",
   "execution_count": 11,
   "id": "3268a2c8-06ca-4ef2-ba14-58508bfb5c9e",
   "metadata": {},
   "outputs": [],
   "source": [
    "most_repeated=frequency.most_common(10)"
   ]
  },
  {
   "cell_type": "code",
   "execution_count": 12,
   "id": "246af23b-1916-4724-a177-9cb70e49a3ab",
   "metadata": {},
   "outputs": [
    {
     "data": {
      "text/plain": [
       "[('my', 3),\n",
       " ('is', 2),\n",
       " (',', 2),\n",
       " ('name', 1),\n",
       " ('jumana', 1),\n",
       " ('son', 1),\n",
       " ('azimmohamed', 1),\n",
       " ('daughter', 1),\n",
       " ('aishahyrin.we', 1),\n",
       " ('are', 1)]"
      ]
     },
     "execution_count": 12,
     "metadata": {},
     "output_type": "execute_result"
    }
   ],
   "source": [
    "most_repeated"
   ]
  },
  {
   "cell_type": "code",
   "execution_count": 13,
   "id": "bfb61982-3028-43b7-89af-db045bd2a9ba",
   "metadata": {},
   "outputs": [],
   "source": [
    "from nltk.util import bigrams,trigrams,ngrams"
   ]
  },
  {
   "cell_type": "code",
   "execution_count": 14,
   "id": "44fc46f4-2899-459f-b8e5-92041501e08e",
   "metadata": {},
   "outputs": [],
   "source": [
    "bigram=list(bigrams(token))"
   ]
  },
  {
   "cell_type": "code",
   "execution_count": 15,
   "id": "153bbfb2-8806-4692-b446-e36035ceff51",
   "metadata": {},
   "outputs": [
    {
     "data": {
      "text/plain": [
       "[('my', 'name'),\n",
       " ('name', 'is'),\n",
       " ('is', 'Jumana'),\n",
       " ('Jumana', ','),\n",
       " (',', 'my'),\n",
       " ('my', 'son'),\n",
       " ('son', 'is'),\n",
       " ('is', 'Azimmohamed'),\n",
       " ('Azimmohamed', ','),\n",
       " (',', 'my'),\n",
       " ('my', 'daughter'),\n",
       " ('daughter', 'Aishahyrin.We'),\n",
       " ('Aishahyrin.We', 'are'),\n",
       " ('are', 'joint'),\n",
       " ('joint', 'family.My'),\n",
       " ('family.My', 'husband'),\n",
       " ('husband', 'Rahoofkappan'),\n",
       " ('Rahoofkappan', 'workin'),\n",
       " ('workin', 'in'),\n",
       " ('in', 'Dubai'),\n",
       " ('Dubai', 'as'),\n",
       " ('as', 'mechanical'),\n",
       " ('mechanical', 'cum'),\n",
       " ('cum', 'commissioning'),\n",
       " ('commissioning', 'engineer'),\n",
       " ('engineer', '.')]"
      ]
     },
     "execution_count": 15,
     "metadata": {},
     "output_type": "execute_result"
    }
   ],
   "source": [
    "bigram"
   ]
  },
  {
   "cell_type": "code",
   "execution_count": 16,
   "id": "db142003-a96f-4fe9-8a79-c3baa2eff4d6",
   "metadata": {},
   "outputs": [],
   "source": [
    "# remove punctuation\n",
    "import string"
   ]
  },
  {
   "cell_type": "code",
   "execution_count": 17,
   "id": "7a359da5-b3a7-43e6-8d66-487f3529ee63",
   "metadata": {},
   "outputs": [
    {
     "data": {
      "text/plain": [
       "'!\"#$%&\\'()*+,-./:;<=>?@[\\\\]^_`{|}~'"
      ]
     },
     "execution_count": 17,
     "metadata": {},
     "output_type": "execute_result"
    }
   ],
   "source": [
    "string.punctuation"
   ]
  },
  {
   "cell_type": "code",
   "execution_count": 18,
   "id": "fd4dc430-0f68-445c-82db-373703cf9192",
   "metadata": {},
   "outputs": [],
   "source": [
    "a=[]\n",
    "for i in token:\n",
    "    if i not in string.punctuation:\n",
    "        a.append(i)"
   ]
  },
  {
   "cell_type": "code",
   "execution_count": 19,
   "id": "0b6462ff-aae5-4127-8ff2-796ab9eb647b",
   "metadata": {},
   "outputs": [
    {
     "data": {
      "text/plain": [
       "['my',\n",
       " 'name',\n",
       " 'is',\n",
       " 'Jumana',\n",
       " 'my',\n",
       " 'son',\n",
       " 'is',\n",
       " 'Azimmohamed',\n",
       " 'my',\n",
       " 'daughter',\n",
       " 'Aishahyrin.We',\n",
       " 'are',\n",
       " 'joint',\n",
       " 'family.My',\n",
       " 'husband',\n",
       " 'Rahoofkappan',\n",
       " 'workin',\n",
       " 'in',\n",
       " 'Dubai',\n",
       " 'as',\n",
       " 'mechanical',\n",
       " 'cum',\n",
       " 'commissioning',\n",
       " 'engineer']"
      ]
     },
     "execution_count": 19,
     "metadata": {},
     "output_type": "execute_result"
    }
   ],
   "source": [
    "a"
   ]
  },
  {
   "cell_type": "code",
   "execution_count": 20,
   "id": "4f42287c-2dbf-4126-9570-bef495415bc1",
   "metadata": {},
   "outputs": [
    {
     "data": {
      "text/plain": [
       "24"
      ]
     },
     "execution_count": 20,
     "metadata": {},
     "output_type": "execute_result"
    }
   ],
   "source": [
    "len(a)"
   ]
  },
  {
   "cell_type": "code",
   "execution_count": 21,
   "id": "4f05d930-0516-4c75-994d-a7b30ffd604f",
   "metadata": {},
   "outputs": [],
   "source": [
    "# frequency in a\n",
    "for i in a:\n",
    "    frequency[i.lower()]+=1"
   ]
  },
  {
   "cell_type": "code",
   "execution_count": 22,
   "id": "09093b85-4741-4fe9-ab35-dd31c160c40d",
   "metadata": {},
   "outputs": [
    {
     "data": {
      "text/plain": [
       "FreqDist({'my': 6, 'is': 4, 'name': 2, 'jumana': 2, ',': 2, 'son': 2, 'azimmohamed': 2, 'daughter': 2, 'aishahyrin.we': 2, 'are': 2, ...})"
      ]
     },
     "execution_count": 22,
     "metadata": {},
     "output_type": "execute_result"
    }
   ],
   "source": [
    "frequency"
   ]
  },
  {
   "cell_type": "code",
   "execution_count": 23,
   "id": "65d9d9a8-7071-4637-95f1-8c33c1463b25",
   "metadata": {},
   "outputs": [],
   "source": [
    "# stemming\n",
    "from nltk.stem import PorterStemmer"
   ]
  },
  {
   "cell_type": "code",
   "execution_count": 24,
   "id": "bcfd74a0-fa61-401a-8547-1fb20f0c8007",
   "metadata": {},
   "outputs": [],
   "source": [
    "stemmer=PorterStemmer()"
   ]
  },
  {
   "cell_type": "code",
   "execution_count": 25,
   "id": "6562c616-f722-4c64-aace-67e59670ee3f",
   "metadata": {},
   "outputs": [
    {
     "data": {
      "text/plain": [
       "'migrat'"
      ]
     },
     "execution_count": 25,
     "metadata": {},
     "output_type": "execute_result"
    }
   ],
   "source": [
    "stemmer.stem(\"migrating\")"
   ]
  },
  {
   "cell_type": "code",
   "execution_count": 26,
   "id": "346ab13f-1323-4d5b-bfbd-f497ee86e59e",
   "metadata": {},
   "outputs": [
    {
     "name": "stdout",
     "output_type": "stream",
     "text": [
      "my - my\n",
      "name - name\n",
      "is - is\n",
      "Jumana - jumana\n",
      "my - my\n",
      "son - son\n",
      "is - is\n",
      "Azimmohamed - azimmoham\n",
      "my - my\n",
      "daughter - daughter\n",
      "Aishahyrin.We - aishahyrin.w\n",
      "are - are\n",
      "joint - joint\n",
      "family.My - family.mi\n",
      "husband - husband\n",
      "Rahoofkappan - rahoofkappan\n",
      "workin - workin\n",
      "in - in\n",
      "Dubai - dubai\n",
      "as - as\n",
      "mechanical - mechan\n",
      "cum - cum\n",
      "commissioning - commiss\n",
      "engineer - engin\n"
     ]
    }
   ],
   "source": [
    "for i in a:\n",
    "    print(i,'-',stemmer.stem(i))\n",
    "    \n",
    "    "
   ]
  },
  {
   "cell_type": "code",
   "execution_count": 27,
   "id": "086a65e8-9959-4f46-aed2-83d697229dfa",
   "metadata": {},
   "outputs": [],
   "source": [
    "# lemmatization\n",
    "from nltk.stem import wordnet\n",
    "from nltk.stem import WordNetLemmatizer"
   ]
  },
  {
   "cell_type": "code",
   "execution_count": 28,
   "id": "7d9491b3-c124-4735-99df-7e005b49268e",
   "metadata": {},
   "outputs": [
    {
     "data": {
      "text/plain": [
       "['my',\n",
       " 'name',\n",
       " 'is',\n",
       " 'Jumana',\n",
       " ',',\n",
       " 'my',\n",
       " 'son',\n",
       " 'is',\n",
       " 'Azimmohamed',\n",
       " ',',\n",
       " 'my',\n",
       " 'daughter',\n",
       " 'Aishahyrin.We',\n",
       " 'are',\n",
       " 'joint',\n",
       " 'family.My',\n",
       " 'husband',\n",
       " 'Rahoofkappan',\n",
       " 'workin',\n",
       " 'in',\n",
       " 'Dubai',\n",
       " 'as',\n",
       " 'mechanical',\n",
       " 'cum',\n",
       " 'commissioning',\n",
       " 'engineer',\n",
       " '.']"
      ]
     },
     "execution_count": 28,
     "metadata": {},
     "output_type": "execute_result"
    }
   ],
   "source": [
    "token"
   ]
  },
  {
   "cell_type": "code",
   "execution_count": 29,
   "id": "5377e454-8cf1-4136-b01c-ef167e9c17f5",
   "metadata": {},
   "outputs": [],
   "source": [
    "lemme=WordNetLemmatizer()"
   ]
  },
  {
   "cell_type": "code",
   "execution_count": 30,
   "id": "610600a5-071c-4142-8b1b-a3fbc6b26f3c",
   "metadata": {},
   "outputs": [
    {
     "name": "stdout",
     "output_type": "stream",
     "text": [
      "my - my\n",
      "name - name\n",
      "is - is\n",
      "Jumana - Jumana\n",
      "my - my\n",
      "son - son\n",
      "is - is\n",
      "Azimmohamed - Azimmohamed\n",
      "my - my\n",
      "daughter - daughter\n",
      "Aishahyrin.We - Aishahyrin.We\n",
      "are - are\n",
      "joint - joint\n",
      "family.My - family.My\n",
      "husband - husband\n",
      "Rahoofkappan - Rahoofkappan\n",
      "workin - workin\n",
      "in - in\n",
      "Dubai - Dubai\n",
      "as - a\n",
      "mechanical - mechanical\n",
      "cum - cum\n",
      "commissioning - commissioning\n",
      "engineer - engineer\n"
     ]
    }
   ],
   "source": [
    "for i in a:\n",
    "    print(i,'-',lemme.lemmatize(i))"
   ]
  },
  {
   "cell_type": "code",
   "execution_count": 31,
   "id": "7866f7c1-ca00-4abd-bd3e-5739678cda17",
   "metadata": {},
   "outputs": [],
   "source": [
    "# removing stop words\n",
    "from nltk.corpus import stopwords\n",
    "stop_word=stopwords.words('english')"
   ]
  },
  {
   "cell_type": "code",
   "execution_count": 32,
   "id": "a7aa83da-cf0a-4c19-b9fe-b8ea9261190a",
   "metadata": {},
   "outputs": [],
   "source": [
    "# stop_word"
   ]
  },
  {
   "cell_type": "code",
   "execution_count": 33,
   "id": "f1f7e6b2-3252-4ee5-9442-5962806d57bb",
   "metadata": {},
   "outputs": [],
   "source": [
    "b=[]\n",
    "for i in a:\n",
    "    if i not in stop_word:\n",
    "        b.append(i)\n",
    "    "
   ]
  },
  {
   "cell_type": "code",
   "execution_count": 34,
   "id": "71d47988-92c9-446c-89ae-1e4a98474f2c",
   "metadata": {},
   "outputs": [
    {
     "data": {
      "text/plain": [
       "['name',\n",
       " 'Jumana',\n",
       " 'son',\n",
       " 'Azimmohamed',\n",
       " 'daughter',\n",
       " 'Aishahyrin.We',\n",
       " 'joint',\n",
       " 'family.My',\n",
       " 'husband',\n",
       " 'Rahoofkappan',\n",
       " 'workin',\n",
       " 'Dubai',\n",
       " 'mechanical',\n",
       " 'cum',\n",
       " 'commissioning',\n",
       " 'engineer']"
      ]
     },
     "execution_count": 34,
     "metadata": {},
     "output_type": "execute_result"
    }
   ],
   "source": [
    "b"
   ]
  },
  {
   "cell_type": "code",
   "execution_count": 35,
   "id": "30468dec-6c55-4de4-9d2c-c26722b566af",
   "metadata": {},
   "outputs": [
    {
     "data": {
      "text/plain": [
       "179"
      ]
     },
     "execution_count": 35,
     "metadata": {},
     "output_type": "execute_result"
    }
   ],
   "source": [
    "len(stop_word)"
   ]
  },
  {
   "cell_type": "code",
   "execution_count": 36,
   "id": "c260194c-fa8d-4012-94f2-0c92e4ca8da4",
   "metadata": {},
   "outputs": [
    {
     "data": {
      "text/plain": [
       "16"
      ]
     },
     "execution_count": 36,
     "metadata": {},
     "output_type": "execute_result"
    }
   ],
   "source": [
    "len(b)"
   ]
  },
  {
   "cell_type": "code",
   "execution_count": 37,
   "id": "bf72170e-9ef6-49d8-823d-9fa98702da41",
   "metadata": {},
   "outputs": [],
   "source": [
    "# pos\n",
    "pos_string1=nltk.pos_tag(token)"
   ]
  },
  {
   "cell_type": "code",
   "execution_count": 38,
   "id": "3ebfddce-70bf-4a31-943e-3e49ec90aadf",
   "metadata": {},
   "outputs": [
    {
     "data": {
      "text/plain": [
       "[('my', 'PRP$'),\n",
       " ('name', 'NN'),\n",
       " ('is', 'VBZ'),\n",
       " ('Jumana', 'NNP'),\n",
       " (',', ','),\n",
       " ('my', 'PRP$'),\n",
       " ('son', 'NN'),\n",
       " ('is', 'VBZ'),\n",
       " ('Azimmohamed', 'NNP'),\n",
       " (',', ','),\n",
       " ('my', 'PRP$'),\n",
       " ('daughter', 'NN'),\n",
       " ('Aishahyrin.We', 'NNP'),\n",
       " ('are', 'VBP'),\n",
       " ('joint', 'JJ'),\n",
       " ('family.My', 'JJ'),\n",
       " ('husband', 'NN'),\n",
       " ('Rahoofkappan', 'NNP'),\n",
       " ('workin', 'NN'),\n",
       " ('in', 'IN'),\n",
       " ('Dubai', 'NNP'),\n",
       " ('as', 'IN'),\n",
       " ('mechanical', 'JJ'),\n",
       " ('cum', 'NN'),\n",
       " ('commissioning', 'VBG'),\n",
       " ('engineer', 'NN'),\n",
       " ('.', '.')]"
      ]
     },
     "execution_count": 38,
     "metadata": {},
     "output_type": "execute_result"
    }
   ],
   "source": [
    "pos_string1"
   ]
  },
  {
   "cell_type": "code",
   "execution_count": 39,
   "id": "b8d92891-3b30-42a2-abf1-88d9f36f193d",
   "metadata": {},
   "outputs": [],
   "source": [
    "# ner\n",
    "from nltk import ne_chunk"
   ]
  },
  {
   "cell_type": "code",
   "execution_count": 40,
   "id": "22cd686e-2282-43d2-80b8-41684c58b536",
   "metadata": {},
   "outputs": [],
   "source": [
    "ner1=ne_chunk(pos_string1)"
   ]
  },
  {
   "cell_type": "code",
   "execution_count": 41,
   "id": "735a444e-1d3f-4907-abf4-fd0a4cecb1d4",
   "metadata": {},
   "outputs": [
    {
     "name": "stdout",
     "output_type": "stream",
     "text": [
      "(S\n",
      "  my/PRP$\n",
      "  name/NN\n",
      "  is/VBZ\n",
      "  (PERSON Jumana/NNP)\n",
      "  ,/,\n",
      "  my/PRP$\n",
      "  son/NN\n",
      "  is/VBZ\n",
      "  (PERSON Azimmohamed/NNP)\n",
      "  ,/,\n",
      "  my/PRP$\n",
      "  daughter/NN\n",
      "  Aishahyrin.We/NNP\n",
      "  are/VBP\n",
      "  joint/JJ\n",
      "  family.My/JJ\n",
      "  husband/NN\n",
      "  (GPE Rahoofkappan/NNP)\n",
      "  workin/NN\n",
      "  in/IN\n",
      "  (GPE Dubai/NNP)\n",
      "  as/IN\n",
      "  mechanical/JJ\n",
      "  cum/NN\n",
      "  commissioning/VBG\n",
      "  engineer/NN\n",
      "  ./.)\n"
     ]
    }
   ],
   "source": [
    "print(ner1)"
   ]
  },
  {
   "cell_type": "code",
   "execution_count": 42,
   "id": "61f87a60-ed1a-4d6f-9831-29a366cda6c5",
   "metadata": {},
   "outputs": [],
   "source": [
    "# sentoken1=word_tokenize(token)\n",
    "# sentoken1"
   ]
  },
  {
   "cell_type": "code",
   "execution_count": 43,
   "id": "451d0654-db38-469b-8629-9ef4e0c7082d",
   "metadata": {},
   "outputs": [],
   "source": [
    "sent=\"my name is Jumana my son AzimMohammed and my daughter Aishahyrin\""
   ]
  },
  {
   "cell_type": "code",
   "execution_count": 44,
   "id": "81d99474-f39e-4cb9-9526-9becbab66c3b",
   "metadata": {},
   "outputs": [
    {
     "data": {
      "text/plain": [
       "['my',\n",
       " 'name',\n",
       " 'is',\n",
       " 'Jumana',\n",
       " 'my',\n",
       " 'son',\n",
       " 'AzimMohammed',\n",
       " 'and',\n",
       " 'my',\n",
       " 'daughter',\n",
       " 'Aishahyrin']"
      ]
     },
     "execution_count": 44,
     "metadata": {},
     "output_type": "execute_result"
    }
   ],
   "source": [
    "sentoken=word_tokenize(sent)\n",
    "sentoken"
   ]
  },
  {
   "cell_type": "code",
   "execution_count": 45,
   "id": "d4472698-7603-4a2a-9dcf-3e3f2e2c664c",
   "metadata": {},
   "outputs": [
    {
     "data": {
      "text/plain": [
       "[('my', 'PRP$'),\n",
       " ('name', 'NN'),\n",
       " ('is', 'VBZ'),\n",
       " ('Jumana', 'NNP'),\n",
       " ('my', 'PRP$'),\n",
       " ('son', 'NN'),\n",
       " ('AzimMohammed', 'NNP'),\n",
       " ('and', 'CC'),\n",
       " ('my', 'PRP$'),\n",
       " ('daughter', 'NN'),\n",
       " ('Aishahyrin', 'NNP')]"
      ]
     },
     "execution_count": 45,
     "metadata": {},
     "output_type": "execute_result"
    }
   ],
   "source": [
    "pos_string=nltk.pos_tag(sentoken)\n",
    "pos_string"
   ]
  },
  {
   "cell_type": "code",
   "execution_count": 46,
   "id": "ffea228f-5df8-465a-8112-26cad152a9ba",
   "metadata": {},
   "outputs": [],
   "source": [
    "ner=ne_chunk(pos_string)"
   ]
  },
  {
   "cell_type": "code",
   "execution_count": 47,
   "id": "ff6d8cfe-fc3d-440d-a93f-80e34cac4d70",
   "metadata": {},
   "outputs": [
    {
     "name": "stdout",
     "output_type": "stream",
     "text": [
      "(S\n",
      "  my/PRP$\n",
      "  name/NN\n",
      "  is/VBZ\n",
      "  (PERSON Jumana/NNP)\n",
      "  my/PRP$\n",
      "  son/NN\n",
      "  (ORGANIZATION AzimMohammed/NNP)\n",
      "  and/CC\n",
      "  my/PRP$\n",
      "  daughter/NN\n",
      "  (PERSON Aishahyrin/NNP))\n"
     ]
    }
   ],
   "source": [
    "print(ner)"
   ]
  },
  {
   "cell_type": "code",
   "execution_count": null,
   "id": "848a317a-b9c8-4a1a-8830-cb4718b0b1d0",
   "metadata": {},
   "outputs": [],
   "source": []
  }
 ],
 "metadata": {
  "kernelspec": {
   "display_name": "Python 3 (ipykernel)",
   "language": "python",
   "name": "python3"
  },
  "language_info": {
   "codemirror_mode": {
    "name": "ipython",
    "version": 3
   },
   "file_extension": ".py",
   "mimetype": "text/x-python",
   "name": "python",
   "nbconvert_exporter": "python",
   "pygments_lexer": "ipython3",
   "version": "3.9.12"
  }
 },
 "nbformat": 4,
 "nbformat_minor": 5
}
